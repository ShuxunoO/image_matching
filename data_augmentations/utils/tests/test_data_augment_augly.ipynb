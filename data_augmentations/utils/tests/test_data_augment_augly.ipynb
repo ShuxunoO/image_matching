{
 "cells": [
  {
   "cell_type": "code",
   "execution_count": null,
   "metadata": {},
   "outputs": [],
   "source": [
    "import os\n",
    "import random\n",
    "import string\n",
    "from PIL import ImageFilter, Image\n",
    "import torchvision\n",
    "from torchvision import transforms as pth_transforms\n",
    "from typing import Any, Callable, Dict, List, Optional, Tuple, Union\n",
    "import sys\n",
    "sys.path.append('..')\n",
    "from data_augment_augly import *\n",
    "\n",
    "\n",
    "input_base_path = \"/data/sswang/data/isc_data/training_images\"\n",
    "output_base_path = \"./output\"\n",
    "source_image = \"D1035960.jpg\"  # caixukun：D1035960.jpg\n",
    "# 尺寸500*500 位深度24\n",
    "\n",
    "image_path = os.path.join(input_base_path, source_image)\n",
    "image = Image.open(image_path) \n",
    "display(image)"
   ]
  },
  {
   "cell_type": "code",
   "execution_count": null,
   "metadata": {},
   "outputs": [],
   "source": [
    "meme = Meme()\n",
    "display(meme(image))\n"
   ]
  },
  {
   "cell_type": "code",
   "execution_count": null,
   "metadata": {},
   "outputs": [],
   "source": [
    "augmentor = ShufflePixels()\n",
    "display(augmentor(image))"
   ]
  },
  {
   "cell_type": "code",
   "execution_count": null,
   "metadata": {},
   "outputs": [],
   "source": [
    "augmentor = PixelizationRandom()\n",
    "display(augmentor(image))"
   ]
  },
  {
   "cell_type": "code",
   "execution_count": null,
   "metadata": {},
   "outputs": [],
   "source": [
    "augmentor = BrightnessRandom()\n",
    "display(augmentor(image))"
   ]
  },
  {
   "cell_type": "code",
   "execution_count": null,
   "metadata": {},
   "outputs": [],
   "source": [
    "augmentor = SaturationRandom()\n",
    "display(augmentor(image))"
   ]
  },
  {
   "cell_type": "code",
   "execution_count": null,
   "metadata": {},
   "outputs": [],
   "source": [
    "augmentor = GrayscaleRandom()\n",
    "display(augmentor(image))"
   ]
  },
  {
   "cell_type": "code",
   "execution_count": null,
   "metadata": {},
   "outputs": [],
   "source": [
    "augmentor = BlurRandom()\n",
    "display(augmentor(image))"
   ]
  },
  {
   "cell_type": "code",
   "execution_count": null,
   "metadata": {},
   "outputs": [],
   "source": [
    "augmentor = SharpenRandom()\n",
    "display(augmentor(image))"
   ]
  },
  {
   "cell_type": "code",
   "execution_count": null,
   "metadata": {},
   "outputs": [],
   "source": [
    "augmentor = JPEGEncodeAttackRandom()\n",
    "display(augmentor(image))"
   ]
  },
  {
   "cell_type": "code",
   "execution_count": null,
   "metadata": {},
   "outputs": [],
   "source": [
    "augmentor = FilterRandom()\n",
    "display(augmentor(image))"
   ]
  },
  {
   "cell_type": "code",
   "execution_count": null,
   "metadata": {},
   "outputs": [],
   "source": [
    "augmentor = OverlayTextRandom()\n",
    "display(augmentor(image))"
   ]
  },
  {
   "cell_type": "code",
   "execution_count": null,
   "metadata": {},
   "outputs": [],
   "source": [
    "augmentor = PadRandom()\n",
    "display(augmentor(image))"
   ]
  },
  {
   "cell_type": "code",
   "execution_count": null,
   "metadata": {},
   "outputs": [],
   "source": [
    "overlayTextRandom = OverlayTextRandom()\n",
    "padRandom = PadRandom()\n",
    "image1 = overlayTextRandom(image)\n",
    "image1 = padRandom(image1)\n",
    "\n",
    "display(image1)"
   ]
  },
  {
   "cell_type": "code",
   "execution_count": null,
   "metadata": {},
   "outputs": [],
   "source": [
    "augmentor = VerticalHorionalConvert()\n",
    "display(augmentor(image))"
   ]
  },
  {
   "cell_type": "code",
   "execution_count": null,
   "metadata": {},
   "outputs": [],
   "source": [
    "augmentor = DouyinFilter()\n",
    "display(augmentor(image))"
   ]
  },
  {
   "cell_type": "code",
   "execution_count": null,
   "metadata": {},
   "outputs": [],
   "source": [
    "augmentor = OverlayEmojiRandom()\n",
    "display(augmentor(image))"
   ]
  },
  {
   "cell_type": "code",
   "execution_count": null,
   "metadata": {},
   "outputs": [],
   "source": [
    "background = os.path.join(input_base_path, \"D1035965.jpg\")\n",
    "augmentor = OverlayImage()\n",
    "display(augmentor(background= background, overlay = image))"
   ]
  },
  {
   "cell_type": "code",
   "execution_count": null,
   "metadata": {},
   "outputs": [],
   "source": [
    "augmentor = OverlayStripes()\n",
    "display(augmentor(image))"
   ]
  },
  {
   "cell_type": "code",
   "execution_count": null,
   "metadata": {},
   "outputs": [],
   "source": [
    "augmentor = RandomCropResize()\n",
    "print(augmentor.x1)\n",
    "type(augmentor.x1)\n",
    "\n",
    "display(augmentor(image, 224, 224))"
   ]
  },
  {
   "cell_type": "code",
   "execution_count": null,
   "metadata": {},
   "outputs": [],
   "source": [
    "random.randint(0,1)"
   ]
  },
  {
   "cell_type": "code",
   "execution_count": null,
   "metadata": {},
   "outputs": [],
   "source": [
    "augmentor = OverlayOntoScreenshot()\n",
    "display(augmentor(image))"
   ]
  },
  {
   "cell_type": "code",
   "execution_count": null,
   "metadata": {},
   "outputs": [],
   "source": [
    "aug = Augly_Trans_List()"
   ]
  },
  {
   "cell_type": "code",
   "execution_count": null,
   "metadata": {},
   "outputs": [],
   "source": [
    "trans_list = random.sample(aug.augly_trans_list[4],6)\n",
    "result_img = image\n",
    "for item in trans_list:\n",
    "    \n",
    "    result_img = item(result_img)\n",
    "display(result_img)"
   ]
  },
  {
   "cell_type": "code",
   "execution_count": null,
   "metadata": {},
   "outputs": [],
   "source": [
    "sys.getsizeof(aug)"
   ]
  },
  {
   "cell_type": "code",
   "execution_count": null,
   "metadata": {},
   "outputs": [],
   "source": [
    "# 创建一个可迭代对象\n",
    "elements = ['a', 'b', 'c', 'd', 'e']\n",
    "\n",
    "# 创建指定概率的列表\n",
    "probabilities = [0.1, 0.1, 0.5, 0.2, 0.2]\n",
    "\n",
    "# 从可迭代对象中按指定概率选择元素\n",
    "choice = random.choices(elements, probabilities)\n",
    "\n",
    "print(choice)"
   ]
  },
  {
   "cell_type": "code",
   "execution_count": null,
   "metadata": {},
   "outputs": [],
   "source": []
  }
 ],
 "metadata": {
  "kernelspec": {
   "display_name": "limu",
   "language": "python",
   "name": "python3"
  },
  "language_info": {
   "codemirror_mode": {
    "name": "ipython",
    "version": 3
   },
   "file_extension": ".py",
   "mimetype": "text/x-python",
   "name": "python",
   "nbconvert_exporter": "python",
   "pygments_lexer": "ipython3",
   "version": "3.9.13"
  },
  "orig_nbformat": 4,
  "vscode": {
   "interpreter": {
    "hash": "a3008d68924f45956556acf295dcfe598cfb2c7cf92317909fcc27f6df7c5f1d"
   }
  }
 },
 "nbformat": 4,
 "nbformat_minor": 2
}
