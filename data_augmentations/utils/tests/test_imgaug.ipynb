{
 "cells": [
  {
   "cell_type": "code",
   "execution_count": 1,
   "metadata": {},
   "outputs": [
    {
     "name": "stderr",
     "output_type": "stream",
     "text": [
      "/tmp/ipykernel_27562/3950697408.py:6: DeprecationWarning: Starting with ImageIO v3 the behavior of this function will switch to that of iio.v3.imread. To keep the current behavior (and make this warning disappear) use `import imageio.v2 as imageio` or call `imageio.v2.imread` directly.\n",
      "  image = imageio.imread(\"/datassd2/sswang/image_matching/data/isc_data/training_imgs/training/T000000.jpg\")\n"
     ]
    }
   ],
   "source": [
    "from PIL import ImageFilter, Image\n",
    "import imageio\n",
    "import imgaug as ia\n",
    "ia.seed(4)\n",
    "import imgaug.augmenters as iaa\n",
    "image = imageio.imread(\"/datassd2/sswang/image_matching/data/isc_data/training_imgs/training/T000000.jpg\")\n",
    "%matplotlib inline"
   ]
  },
  {
   "cell_type": "code",
   "execution_count": 2,
   "metadata": {},
   "outputs": [
    {
     "name": "stderr",
     "output_type": "stream",
     "text": [
      "/tmp/ipykernel_27562/3828434528.py:4: DeprecationWarning: Starting with ImageIO v3 the behavior of this function will switch to that of iio.v3.imread. To keep the current behavior (and make this warning disappear) use `import imageio.v2 as imageio` or call `imageio.v2.imread` directly.\n",
      "  image = imageio.imread(\"https://upload.wikimedia.org/wikipedia/en/7/7d/Lenna_%28test_image%29.png\")\n"
     ]
    },
    {
     "name": "stdout",
     "output_type": "stream",
     "text": [
      "Original:\n"
     ]
    },
    {
     "ename": "AttributeError",
     "evalue": "'FigureCanvasAgg' object has no attribute 'set_window_title'",
     "output_type": "error",
     "traceback": [
      "\u001b[0;31m---------------------------------------------------------------------------\u001b[0m",
      "\u001b[0;31mAttributeError\u001b[0m                            Traceback (most recent call last)",
      "Cell \u001b[0;32mIn[2], line 7\u001b[0m\n\u001b[1;32m      4\u001b[0m image \u001b[39m=\u001b[39m imageio\u001b[39m.\u001b[39mimread(\u001b[39m\"\u001b[39m\u001b[39mhttps://upload.wikimedia.org/wikipedia/en/7/7d/Lenna_\u001b[39m\u001b[39m%\u001b[39m\u001b[39m28test_image\u001b[39m\u001b[39m%\u001b[39m\u001b[39m29.png\u001b[39m\u001b[39m\"\u001b[39m)\n\u001b[1;32m      6\u001b[0m \u001b[39mprint\u001b[39m(\u001b[39m\"\u001b[39m\u001b[39mOriginal:\u001b[39m\u001b[39m\"\u001b[39m)\n\u001b[0;32m----> 7\u001b[0m ia\u001b[39m.\u001b[39;49mimshow(image)\n",
      "File \u001b[0;32m~/anaconda3/envs/img_matching/lib/python3.9/site-packages/imgaug/imgaug.py:2120\u001b[0m, in \u001b[0;36mimshow\u001b[0;34m(image, backend)\u001b[0m\n\u001b[1;32m   2117\u001b[0m w \u001b[39m=\u001b[39m \u001b[39mmax\u001b[39m(w, \u001b[39m6\u001b[39m)\n\u001b[1;32m   2119\u001b[0m fig, ax \u001b[39m=\u001b[39m plt\u001b[39m.\u001b[39msubplots(figsize\u001b[39m=\u001b[39m(w, h), dpi\u001b[39m=\u001b[39mdpi)\n\u001b[0;32m-> 2120\u001b[0m fig\u001b[39m.\u001b[39;49mcanvas\u001b[39m.\u001b[39;49mset_window_title(\u001b[39m\"\u001b[39m\u001b[39mimgaug.imshow(\u001b[39m\u001b[39m%s\u001b[39;00m\u001b[39m)\u001b[39m\u001b[39m\"\u001b[39m \u001b[39m%\u001b[39m (image\u001b[39m.\u001b[39mshape,))\n\u001b[1;32m   2121\u001b[0m \u001b[39m# cmap=gray is automatically only activate for grayscale images\u001b[39;00m\n\u001b[1;32m   2122\u001b[0m ax\u001b[39m.\u001b[39mimshow(image, cmap\u001b[39m=\u001b[39m\u001b[39m\"\u001b[39m\u001b[39mgray\u001b[39m\u001b[39m\"\u001b[39m)\n",
      "\u001b[0;31mAttributeError\u001b[0m: 'FigureCanvasAgg' object has no attribute 'set_window_title'"
     ]
    },
    {
     "data": {
      "image/png": "[encoded data removed]",
      "text/plain": [
       "<Figure size 576x512 with 1 Axes>"
      ]
     },
     "metadata": {},
     "output_type": "display_data"
    }
   ],
   "source": [
    "import imageio\n",
    "import imgaug as ia\n",
    "\n",
    "image = imageio.imread(\"https://upload.wikimedia.org/wikipedia/en/7/7d/Lenna_%28test_image%29.png\")\n",
    "\n",
    "print(\"Original:\")\n",
    "ia.imshow(image)"
   ]
  },
  {
   "cell_type": "code",
   "execution_count": null,
   "metadata": {},
   "outputs": [],
   "source": [
    "seq = iaa.Sequential([\n",
    "    iaa.Crop(px=(0, 16)), # crop images from each side by 0 to 16px (randomly chosen)\n",
    "    iaa.Fliplr(0.5), # horizontally flip 50% of the images\n",
    "    iaa.GaussianBlur(sigma=(0, 3.0)) # blur images with a sigma of 0 to 3.0\n",
    "])\n",
    "\n",
    "for batch_idx in range(1000):\n",
    "    # 'images' should be either a 4D numpy array of shape (N, height, width, channels)\n",
    "    # or a list of 3D numpy arrays, each having shape (height, width, channels).\n",
    "    # Grayscale images must have shape (height, width, 1) each.\n",
    "    # All images must have numpy's dtype uint8. Values are expected to be in\n",
    "    # range 0-255.\n",
    "    images = load_batch(batch_idx)\n",
    "    images_aug = seq(images=images)\n",
    "    train_on_images(images_aug)"
   ]
  },
  {
   "cell_type": "code",
   "execution_count": null,
   "metadata": {},
   "outputs": [],
   "source": [
    "seq = iaa.Sequential([\n",
    "    iaa.PiecewiseAffine(scale=(0.01, 0.05))\n",
    "])\n",
    "# aug = iaa.PiecewiseAffine(scale=(0.01, 0.05))\n",
    "img_aug = seq(image=image)\n",
    "display(img_aug)"
   ]
  },
  {
   "cell_type": "code",
   "execution_count": null,
   "metadata": {},
   "outputs": [],
   "source": [
    "\n",
    "ia.imshow(img_aug)"
   ]
  },
  {
   "cell_type": "code",
   "execution_count": 12,
   "metadata": {},
   "outputs": [
    {
     "ename": "AttributeError",
     "evalue": "module 'matplotlib.figure' has no attribute 'canvas'",
     "output_type": "error",
     "traceback": [
      "\u001b[0;31m---------------------------------------------------------------------------\u001b[0m",
      "\u001b[0;31mAttributeError\u001b[0m                            Traceback (most recent call last)",
      "Cell \u001b[0;32mIn[12], line 6\u001b[0m\n\u001b[1;32m      4\u001b[0m aug \u001b[39m=\u001b[39m iaa\u001b[39m.\u001b[39mPiecewiseAffine(scale\u001b[39m=\u001b[39m(\u001b[39m0.01\u001b[39m, \u001b[39m0.05\u001b[39m))\n\u001b[1;32m      5\u001b[0m image_aug \u001b[39m=\u001b[39m aug(image\u001b[39m=\u001b[39mimage)\n\u001b[0;32m----> 6\u001b[0m figure\u001b[39m.\u001b[39;49mcanvas\u001b[39m.\u001b[39mmanager\u001b[39m.\u001b[39mset_window_title(window_title)\n\u001b[1;32m      7\u001b[0m \u001b[39mprint\u001b[39m(\u001b[39m\"\u001b[39m\u001b[39mAugmented:\u001b[39m\u001b[39m\"\u001b[39m)\n\u001b[1;32m      8\u001b[0m ia\u001b[39m.\u001b[39mimshow(image_aug)\n",
      "\u001b[0;31mAttributeError\u001b[0m: module 'matplotlib.figure' has no attribute 'canvas'"
     ]
    }
   ],
   "source": [
    "from matplotlib import figure\n",
    "\n",
    "\n",
    "aug = iaa.PiecewiseAffine(scale=(0.01, 0.05))\n",
    "image_aug = aug(image=image)\n",
    "figure.canvas.manager.set_window_title(window_title)\n",
    "print(\"Augmented:\")\n",
    "ia.imshow(image_aug)"
   ]
  }
 ],
 "metadata": {
  "kernelspec": {
   "display_name": "img_matching",
   "language": "python",
   "name": "python3"
  },
  "language_info": {
   "codemirror_mode": {
    "name": "ipython",
    "version": 3
   },
   "file_extension": ".py",
   "mimetype": "text/x-python",
   "name": "python",
   "nbconvert_exporter": "python",
   "pygments_lexer": "ipython3",
   "version": "3.9.16"
  },
  "orig_nbformat": 4
 },
 "nbformat": 4,
 "nbformat_minor": 2
}
