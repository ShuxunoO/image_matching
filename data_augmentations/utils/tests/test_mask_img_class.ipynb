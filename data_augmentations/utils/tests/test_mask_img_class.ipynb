{
 "cells": [
  {
   "cell_type": "code",
   "execution_count": 1,
   "metadata": {},
   "outputs": [],
   "source": [
    "import os\n",
    "import random\n",
    "import string\n",
    "from PIL import ImageFilter, Image\n",
    "import augly.image as imaugs\n",
    "import augly.image.transforms as transaugs\n",
    "from augly.image import composition\n",
    "import sys\n",
    "sys.path.append('..')\n",
    "from data_augmentation_for_yolo_training import *\n",
    "\n",
    "# 115服务器资源\n",
    "img = Image.open(\"/datassd2/sswang/image_matching/data/isc_data/training_imgs/training/T030000.jpg\")\n",
    "# img = \"/datassd2/sswang/image_matching/data/isc_data/training_imgs/training/T030000.jpg\"\n",
    "# display(img)"
   ]
  },
  {
   "cell_type": "code",
   "execution_count": null,
   "metadata": {},
   "outputs": [],
   "source": [
    "meta = []\n",
    "aug1 = imaugs.Compose(\n",
    "            [\n",
    "                Mask_IMG()\n",
    "            ])\n",
    "display(aug1(img, meta))\n",
    "meta"
   ]
  },
  {
   "cell_type": "code",
   "execution_count": 2,
   "metadata": {},
   "outputs": [
    {
     "name": "stdout",
     "output_type": "stream",
     "text": [
      "True\n"
     ]
    }
   ],
   "source": [
    "print(isinstance(\n",
    "        img, Image.Image\n",
    "    ))"
   ]
  },
  {
   "cell_type": "code",
   "execution_count": 3,
   "metadata": {},
   "outputs": [
    {
     "name": "stdout",
     "output_type": "stream",
     "text": [
      "<class 'PIL.Image.Image'>\n",
      "mask_img, Img type:  <class 'data_augmentation_for_yolo_training.Mask_IMG'>\n"
     ]
    },
    {
     "ename": "AssertionError",
     "evalue": "Expected type PIL.Image.Image for variable 'image'",
     "output_type": "error",
     "traceback": [
      "\u001b[0;31m---------------------------------------------------------------------------\u001b[0m",
      "\u001b[0;31mAssertionError\u001b[0m                            Traceback (most recent call last)",
      "Cell \u001b[0;32mIn[3], line 5\u001b[0m\n\u001b[1;32m      1\u001b[0m aug1 \u001b[39m=\u001b[39m imaugs\u001b[39m.\u001b[39mCompose(\n\u001b[1;32m      2\u001b[0m             [\n\u001b[1;32m      3\u001b[0m                 Mask_IMG(p\u001b[39m=\u001b[39m\u001b[39m1.0\u001b[39m)\n\u001b[1;32m      4\u001b[0m             ])\n\u001b[0;32m----> 5\u001b[0m display(aug1(img))\n",
      "File \u001b[0;32m~/anaconda3/envs/img_matching/lib/python3.9/site-packages/augly/image/composition.py:89\u001b[0m, in \u001b[0;36mCompose.__call__\u001b[0;34m(self, image, metadata, bboxes, bbox_format)\u001b[0m\n\u001b[1;32m     86\u001b[0m     \u001b[39mreturn\u001b[39;00m image\n\u001b[1;32m     88\u001b[0m \u001b[39mfor\u001b[39;00m transform \u001b[39min\u001b[39;00m \u001b[39mself\u001b[39m\u001b[39m.\u001b[39mtransforms:\n\u001b[0;32m---> 89\u001b[0m     image \u001b[39m=\u001b[39m transform(\n\u001b[1;32m     90\u001b[0m         image, metadata\u001b[39m=\u001b[39;49mmetadata, bboxes\u001b[39m=\u001b[39;49mbboxes, bbox_format\u001b[39m=\u001b[39;49mbbox_format\n\u001b[1;32m     91\u001b[0m     )\n\u001b[1;32m     93\u001b[0m \u001b[39mreturn\u001b[39;00m image\n",
      "File \u001b[0;32m~/anaconda3/envs/img_matching/lib/python3.9/site-packages/augly/image/transforms.py:64\u001b[0m, in \u001b[0;36mBaseTransform.__call__\u001b[0;34m(self, image, force, metadata, bboxes, bbox_format)\u001b[0m\n\u001b[1;32m     61\u001b[0m \u001b[39mif\u001b[39;00m \u001b[39mnot\u001b[39;00m force \u001b[39mand\u001b[39;00m random\u001b[39m.\u001b[39mrandom() \u001b[39m>\u001b[39m \u001b[39mself\u001b[39m\u001b[39m.\u001b[39mp:\n\u001b[1;32m     62\u001b[0m     \u001b[39mreturn\u001b[39;00m image\n\u001b[0;32m---> 64\u001b[0m \u001b[39mreturn\u001b[39;00m \u001b[39mself\u001b[39;49m\u001b[39m.\u001b[39;49mapply_transform(image, metadata, bboxes, bbox_format)\n",
      "File \u001b[0;32m/datassd2/sswang/image_matching/data_augmentations/utils/tests/../data_augmentation_for_yolo_training.py:304\u001b[0m, in \u001b[0;36mMask_IMG.apply_transform\u001b[0;34m(self, image, metadata, bboxes, bbox_format)\u001b[0m\n\u001b[1;32m    301\u001b[0m mask \u001b[39m=\u001b[39m Image\u001b[39m.\u001b[39mopen(get_random_mask())\u001b[39m.\u001b[39mconvert(\u001b[39m\"\u001b[39m\u001b[39mRGBA\u001b[39m\u001b[39m\"\u001b[39m)\n\u001b[1;32m    302\u001b[0m \u001b[39mprint\u001b[39m(\u001b[39mtype\u001b[39m(mask))\n\u001b[0;32m--> 304\u001b[0m \u001b[39mreturn\u001b[39;00m \u001b[39mself\u001b[39;49m\u001b[39m.\u001b[39;49mmask_img(image, mask, metadata, bboxes, bbox_format)\n",
      "File \u001b[0;32m/datassd2/sswang/image_matching/data_augmentations/utils/tests/../data_augmentation_for_yolo_training.py:261\u001b[0m, in \u001b[0;36mMask_IMG.mask_img\u001b[0;34m(image, mask, output_path, metadata, bboxes, bbox_format)\u001b[0m\n\u001b[1;32m    234\u001b[0m \u001b[39m\u001b[39m\u001b[39m\"\"\"\u001b[39;00m\n\u001b[1;32m    235\u001b[0m \u001b[39mApplies a mask to an image. The mask must be a PIL Image of the same size as the image.\u001b[39;00m\n\u001b[1;32m    236\u001b[0m \n\u001b[0;32m   (...)\u001b[0m\n\u001b[1;32m    258\u001b[0m \n\u001b[1;32m    259\u001b[0m \u001b[39m\"\"\"\u001b[39;00m\n\u001b[1;32m    260\u001b[0m \u001b[39mprint\u001b[39m(\u001b[39m\"\u001b[39m\u001b[39mmask_img, Img type: \u001b[39m\u001b[39m\"\u001b[39m, \u001b[39mtype\u001b[39m(image))\n\u001b[0;32m--> 261\u001b[0m image \u001b[39m=\u001b[39m imutils\u001b[39m.\u001b[39;49mvalidate_and_load_image(image)\n\u001b[1;32m    262\u001b[0m func_kwargs \u001b[39m=\u001b[39m imutils\u001b[39m.\u001b[39mget_func_kwargs(metadata, \u001b[39mlocals\u001b[39m())\n\u001b[1;32m    264\u001b[0m src_mode \u001b[39m=\u001b[39m image\u001b[39m.\u001b[39mmode\n",
      "File \u001b[0;32m~/anaconda3/envs/img_matching/lib/python3.9/site-packages/augly/image/utils/utils.py:30\u001b[0m, in \u001b[0;36mvalidate_and_load_image\u001b[0;34m(image)\u001b[0m\n\u001b[1;32m     27\u001b[0m     utils\u001b[39m.\u001b[39mvalidate_image_path(local_path)\n\u001b[1;32m     28\u001b[0m     \u001b[39mreturn\u001b[39;00m Image\u001b[39m.\u001b[39mopen(local_path)\n\u001b[0;32m---> 30\u001b[0m \u001b[39massert\u001b[39;00m \u001b[39misinstance\u001b[39m(\n\u001b[1;32m     31\u001b[0m     image, Image\u001b[39m.\u001b[39mImage\n\u001b[1;32m     32\u001b[0m ), \u001b[39m\"\u001b[39m\u001b[39mExpected type PIL.Image.Image for variable \u001b[39m\u001b[39m'\u001b[39m\u001b[39mimage\u001b[39m\u001b[39m'\u001b[39m\u001b[39m\"\u001b[39m\n\u001b[1;32m     34\u001b[0m \u001b[39mreturn\u001b[39;00m image\n",
      "\u001b[0;31mAssertionError\u001b[0m: Expected type PIL.Image.Image for variable 'image'"
     ]
    }
   ],
   "source": [
    "aug1 = imaugs.Compose(\n",
    "            [\n",
    "                Mask_IMG(p=1.0)\n",
    "            ])\n",
    "display(aug1(img))"
   ]
  }
 ],
 "metadata": {
  "kernelspec": {
   "display_name": "img_matching",
   "language": "python",
   "name": "python3"
  },
  "language_info": {
   "codemirror_mode": {
    "name": "ipython",
    "version": 3
   },
   "file_extension": ".py",
   "mimetype": "text/x-python",
   "name": "python",
   "nbconvert_exporter": "python",
   "pygments_lexer": "ipython3",
   "version": "3.9.16"
  },
  "orig_nbformat": 4
 },
 "nbformat": 4,
 "nbformat_minor": 2
}
