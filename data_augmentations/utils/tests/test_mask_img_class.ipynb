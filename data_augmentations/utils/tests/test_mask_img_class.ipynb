{
 "cells": [
  {
   "cell_type": "code",
   "execution_count": null,
   "metadata": {},
   "outputs": [],
   "source": [
    "import os\n",
    "import random\n",
    "import string\n",
    "from PIL import ImageFilter, Image\n",
    "import augly.image as imaugs\n",
    "import augly.image.transforms as transaugs\n",
    "from augly.image import composition\n",
    "import sys\n",
    "sys.path.append('..')\n",
    "from data_augmentation_for_yolo_training import *\n",
    "\n",
    "# 115服务器资源\n",
    "img = Image.open(\"/datassd2/sswang/image_matching/data/isc_data/training_imgs/training/T030000.jpg\").convert(\"RGBA\")\n",
    "# img = \"/datassd2/sswang/image_matching/data/isc_data/training_imgs/training/T030000.jpg\"\n",
    "# display(img)"
   ]
  },
  {
   "cell_type": "code",
   "execution_count": null,
   "metadata": {},
   "outputs": [],
   "source": [
    "print(isinstance(\n",
    "        img, Image.Image\n",
    "    ))"
   ]
  },
  {
   "cell_type": "code",
   "execution_count": null,
   "metadata": {},
   "outputs": [],
   "source": [
    "aug1 = imaugs.Compose(\n",
    "            [\n",
    "                Mask_Crop(p=0.6)\n",
    "            ])\n",
    "display(aug1(img))"
   ]
  },
  {
   "cell_type": "code",
   "execution_count": null,
   "metadata": {},
   "outputs": [],
   "source": [
    "aug1 = imaugs.Compose(\n",
    "            [\n",
    "                DouyinFilter(p=0.6)\n",
    "            ])\n",
    "display(aug1(img))"
   ]
  }
 ],
 "metadata": {
  "kernelspec": {
   "display_name": "img_matching",
   "language": "python",
   "name": "python3"
  },
  "language_info": {
   "codemirror_mode": {
    "name": "ipython",
    "version": 3
   },
   "file_extension": ".py",
   "mimetype": "text/x-python",
   "name": "python",
   "nbconvert_exporter": "python",
   "pygments_lexer": "ipython3",
   "version": "3.9.16"
  },
  "orig_nbformat": 4
 },
 "nbformat": 4,
 "nbformat_minor": 2
}
