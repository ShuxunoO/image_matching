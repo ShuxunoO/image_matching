{
 "cells": [
  {
   "cell_type": "code",
   "execution_count": null,
   "metadata": {},
   "outputs": [],
   "source": [
    "import os\n",
    "import random\n",
    "import string\n",
    "from PIL import ImageFilter, Image\n",
    "import augly.image as imaugs\n",
    "import augly.image.transforms as transaugs\n",
    "import sys\n",
    "sys.path.append('..')\n",
    "from data_augmentation_for_yolo_training import *\n",
    "\n",
    "# 115服务器资源\n",
    "img = Image.open(\"/datassd2/sswang/image_matching/data/isc_data/training_imgs/training/T030000.jpg\")\n",
    "# display(img)"
   ]
  },
  {
   "cell_type": "code",
   "execution_count": null,
   "metadata": {},
   "outputs": [],
   "source": [
    "aug1 = imaugs.Compose(\n",
    "            [\n",
    "                imaugs.ApplyPILFilter(filter_type = get_ramdom_imagefilter(), p=0.6)\n",
    "            ]\n",
    "            )\n",
    "\n",
    "print(type(aug1))"
   ]
  },
  {
   "cell_type": "code",
   "execution_count": null,
   "metadata": {},
   "outputs": [],
   "source": [
    "meta = []\n",
    "display(aug1(img, meta))\n",
    "meta"
   ]
  },
  {
   "cell_type": "code",
   "execution_count": null,
   "metadata": {},
   "outputs": [],
   "source": [
    "meta = []\n",
    "aug1 = imaugs.Compose(\n",
    "            [\n",
    "                imaugs.Contrast(factor=random.uniform(0, 10),p=0.6)\n",
    "\n",
    "            ])\n",
    "display(aug1(img, meta))\n",
    "meta"
   ]
  },
  {
   "cell_type": "code",
   "execution_count": null,
   "metadata": {},
   "outputs": [],
   "source": [
    "meta = []\n",
    "aug1 = imaugs.Compose(\n",
    "            [\n",
    "                imaugs.ConvertColor(mode='RGB',matrix=(30.1,20.0, 42.0, 6.8), p=1)\n",
    "            ])\n",
    "display(aug1(img, meta))\n",
    "meta"
   ]
  },
  {
   "cell_type": "code",
   "execution_count": null,
   "metadata": {},
   "outputs": [],
   "source": [
    "meta = []\n",
    "aug1 = imaugs.Compose(\n",
    "            [\n",
    "                imaugs.Crop(x1=random.triangular(0.3, 0.49),\n",
    "                y1=random.triangular(0.3, 0.49),\n",
    "                x2=random.triangular(0.5, 0.9),\n",
    "                y2=random.triangular(0.5, 0.9), p=0.6),\n",
    "                imaugs.Resize(width=224, height=224, p=1.0)\n",
    "            ])\n",
    "display(aug1(img, meta))\n",
    "meta"
   ]
  },
  {
   "cell_type": "code",
   "execution_count": null,
   "metadata": {},
   "outputs": [],
   "source": [
    "meta = []\n",
    "aug1 = imaugs.Compose(\n",
    "            [\n",
    "                imaugs.EncodingQuality(quality=random.randint(0,100), p=1.0)\n",
    "            ])\n",
    "display(aug1(img, meta))\n",
    "meta"
   ]
  },
  {
   "cell_type": "code",
   "execution_count": null,
   "metadata": {},
   "outputs": [],
   "source": [
    "meta = []\n",
    "aug1 = imaugs.Compose(\n",
    "            [\n",
    "                imaugs.Grayscale(mode=random.choice(['luminosity' ,'average']), p=0.6)\n",
    "            ])\n",
    "display(aug1(img, meta))\n",
    "meta"
   ]
  },
  {
   "cell_type": "code",
   "execution_count": null,
   "metadata": {},
   "outputs": [],
   "source": [
    "meta = []\n",
    "aug1 = imaugs.Compose(\n",
    "            [\n",
    "                imaugs.HFlip(p=0.6)\n",
    "            ])\n",
    "display(aug1(img, meta))\n",
    "meta"
   ]
  },
  {
   "cell_type": "code",
   "execution_count": null,
   "metadata": {},
   "outputs": [],
   "source": [
    "meta = []\n",
    "aug1 = imaugs.Compose(\n",
    "            [\n",
    "                imaugs.MemeFormat(text=get_ramdom_string(), opacity=random.uniform(0.3,1), text_color=random_RGB(), caption_height=random.randint(20,200), meme_bg_color=random_RGB(),p=0.6)\n",
    "            ])\n",
    "display(aug1(img, meta))\n",
    "meta"
   ]
  },
  {
   "cell_type": "code",
   "execution_count": null,
   "metadata": {},
   "outputs": [],
   "source": [
    "meta = []\n",
    "aug1 = imaugs.Compose(\n",
    "            [\n",
    "                imaugs.Opacity(level=random.random(),p=0.6)\n",
    "            ])\n",
    "display(aug1(img, meta))\n",
    "meta"
   ]
  },
  {
   "cell_type": "code",
   "execution_count": null,
   "metadata": {},
   "outputs": [],
   "source": [
    "meta = []\n",
    "aug1 = imaugs.Compose(\n",
    "            [\n",
    "                imaugs.OverlayEmoji(emoji_path=get_ramdom_emoji(), opacity=random.uniform(0.5,1), emoji_size=random.uniform(0,1), x_pos=random.uniform(0.1,0.7), y_pos=random.uniform(0.3,0.7),p=1.0),\n",
    "                imaugs.OverlayEmoji(emoji_path=get_ramdom_emoji(), opacity=random.uniform(0.5,1), emoji_size=random.uniform(0,1), x_pos=random.uniform(0.1,0.5), y_pos=random.uniform(0.3,0.7),p=0.6),\n",
    "                imaugs.OverlayEmoji(emoji_path=get_ramdom_emoji(), opacity=random.uniform(0.2,1), emoji_size=random.uniform(0,1), x_pos=random.uniform(0.5,0.7), y_pos=random.uniform(0.3,0.7),p=0.3)\n",
    "            ])\n",
    "display(aug1(img, meta))"
   ]
  },
  {
   "cell_type": "code",
   "execution_count": null,
   "metadata": {},
   "outputs": [],
   "source": [
    "meta = []\n",
    "aug1 = imaugs.Compose(\n",
    "            [\n",
    "                imaugs.OverlayStripes(line_width=random.uniform(0.3,1), line_color=random_RGB(), line_angle=random.uniform(-180, 180), line_density=random.uniform(0.3,1), line_type=get_line_type(), line_opacity=random.uniform(0.5,1),p=0.6)\n",
    "            ])\n",
    "display(aug1(img, meta))\n",
    "meta"
   ]
  },
  {
   "cell_type": "code",
   "execution_count": null,
   "metadata": {},
   "outputs": [],
   "source": [
    "meta = []\n",
    "\n",
    "aug1 = imaugs.Compose(\n",
    "            [\n",
    "                imaugs.OverlayText(text=get_random_overlaytext(), font_size=random.uniform(0.1,0.3), opacity=random.uniform(0.3, 1), color=random_RGB(), x_pos=random.uniform(0.1,0.6), y_pos=random.uniform(0.1,0.7), p=0.6)\n",
    "            ])\n",
    "display(aug1(img, meta))\n",
    "meta"
   ]
  },
  {
   "cell_type": "code",
   "execution_count": null,
   "metadata": {},
   "outputs": [],
   "source": [
    "meta = []\n",
    "aug1 = imaugs.Compose(\n",
    "            [\n",
    "                imaugs.OverlayOntoScreenshot(template_filepath=get_random_screenshot_template(), template_bboxes_filepath='C:/Users/Lenovo/Desktop/AI/yolo/data/screenshot_templates/bboxes.json', max_image_size_pixels=None, crop_src_to_fit=False, resize_src_to_match_template=True,p=0.6)\n",
    "            ])\n",
    "display(aug1(img, meta))\n",
    "meta"
   ]
  },
  {
   "cell_type": "code",
   "execution_count": null,
   "metadata": {},
   "outputs": [],
   "source": [
    "meta = []\n",
    "aug1 = imaugs.Compose(\n",
    "            [\n",
    "                imaugs.Pad(w_factor=random.uniform(0.1, 0.3), h_factor=random.uniform(0.1, 0.3), color=random_RGB(), p=0.6)\n",
    "            ])\n",
    "display(aug1(img, meta))"
   ]
  },
  {
   "cell_type": "code",
   "execution_count": null,
   "metadata": {},
   "outputs": [],
   "source": [
    "meta = []\n",
    "aug1 = imaugs.Compose(\n",
    "            [\n",
    "                imaugs.PadSquare(color=random_RGB(), p=0.6)\n",
    "            ])\n",
    "display(aug1(img, meta))"
   ]
  },
  {
   "cell_type": "code",
   "execution_count": null,
   "metadata": {},
   "outputs": [],
   "source": [
    "meta = []\n",
    "aug1 = imaugs.Compose(\n",
    "            [\n",
    "                imaugs.PerspectiveTransform(sigma=random.randint(50,150), dx=random.uniform(0,10), dy=random.uniform(0,10), seed=random.randint(1,200), p=0.6)\n",
    "            ])\n",
    "display(aug1(img, meta))\n",
    "meta"
   ]
  },
  {
   "cell_type": "code",
   "execution_count": null,
   "metadata": {},
   "outputs": [],
   "source": [
    "meta = []\n",
    "aug1 = imaugs.Compose(\n",
    "            [\n",
    "                imaugs.Pixelization(ratio=random.random(),  p=0.6)\n",
    "            ])\n",
    "display(aug1(img, meta))\n",
    "meta"
   ]
  },
  {
   "cell_type": "code",
   "execution_count": null,
   "metadata": {},
   "outputs": [],
   "source": [
    "meta = []\n",
    "aug1 = imaugs.Compose(\n",
    "            [\n",
    "                imaugs.RandomAspectRatio(min_ratio=0.3, max_ratio=3.0, p=0.6)\n",
    "            ])\n",
    "display(aug1(img, meta))\n",
    "meta"
   ]
  },
  {
   "cell_type": "code",
   "execution_count": null,
   "metadata": {},
   "outputs": [],
   "source": [
    "# 处理得比较慢\n",
    "meta = []\n",
    "aug1 = imaugs.Compose(\n",
    "            [\n",
    "                imaugs.RandomNoise(mean=random.random(), var=random.uniform(0.5, 1), seed=random.randint(10, 50),  p=0.6)\n",
    "            ])\n",
    "display(aug1(img, meta))\n",
    "meta"
   ]
  },
  {
   "cell_type": "code",
   "execution_count": null,
   "metadata": {},
   "outputs": [],
   "source": [
    "# 处理得比较慢\n",
    "meta = []\n",
    "aug1 = imaugs.Compose(\n",
    "            [\n",
    "                imaugs.RandomPixelization(min_ratio=0.1, max_ratio=1.0, p=0.6)\n",
    "            ])\n",
    "display(aug1(img, meta))\n",
    "meta"
   ]
  },
  {
   "cell_type": "code",
   "execution_count": null,
   "metadata": {},
   "outputs": [],
   "source": [
    "meta = []\n",
    "aug1 = imaugs.Compose(\n",
    "            [\n",
    "                imaugs.Resize(width=224, height=224, resample=2, p=0.6)\n",
    "            ])\n",
    "display(aug1(img, meta))\n",
    "meta"
   ]
  },
  {
   "cell_type": "code",
   "execution_count": null,
   "metadata": {},
   "outputs": [],
   "source": [
    "meta = []\n",
    "aug1 = imaugs.Compose(\n",
    "            [\n",
    "                imaugs.Rotate(degrees=random.uniform(-180, 180), p=0.6)\n",
    "            ])\n",
    "display(aug1(img, meta))\n",
    "meta"
   ]
  },
  {
   "cell_type": "code",
   "execution_count": null,
   "metadata": {},
   "outputs": [],
   "source": [
    "meta = []\n",
    "aug1 = imaugs.Compose(\n",
    "            [\n",
    "                imaugs.Saturation(factor=random.random(), p=0.6)\n",
    "            ])\n",
    "display(aug1(img, meta))\n",
    "meta"
   ]
  },
  {
   "cell_type": "code",
   "execution_count": null,
   "metadata": {},
   "outputs": [],
   "source": [
    "meta = []\n",
    "aug1 = imaugs.Compose(\n",
    "            [\n",
    "                imaugs.Scale(factor=random.random(), interpolation=None, p=0.6)\n",
    "            ])\n",
    "display(aug1(img, meta))\n",
    "meta"
   ]
  },
  {
   "cell_type": "code",
   "execution_count": null,
   "metadata": {},
   "outputs": [],
   "source": [
    "meta = []\n",
    "aug1 = imaugs.Compose(\n",
    "            [\n",
    "                imaugs.Sharpen(factor=random.uniform(10,20),  p=0.6)\n",
    "            ])\n",
    "display(aug1(img, meta))\n",
    "meta"
   ]
  },
  {
   "cell_type": "code",
   "execution_count": null,
   "metadata": {},
   "outputs": [],
   "source": [
    "# 运行得很慢\n",
    "meta = []\n",
    "aug1 = imaugs.Compose(\n",
    "            [\n",
    "                imaugs.ShufflePixels(factor=random.uniform(0.3,1), seed=random.randint(10,100), p=0.6)\n",
    "            ])\n",
    "display(aug1(img, meta))\n",
    "meta"
   ]
  },
  {
   "cell_type": "code",
   "execution_count": null,
   "metadata": {},
   "outputs": [],
   "source": [
    "# 图像扭曲\n",
    "meta = []\n",
    "aug1 = imaugs.Compose(\n",
    "            [\n",
    "                imaugs.Skew(skew_factor=random.uniform(-2, 2), axis=random.choice([0, 1]),  p=0.6)\n",
    "            ])\n",
    "display(aug1(img, meta))\n",
    "meta"
   ]
  },
  {
   "cell_type": "code",
   "execution_count": null,
   "metadata": {},
   "outputs": [],
   "source": [
    "\n",
    "meta = []\n",
    "aug1 = imaugs.Compose(\n",
    "            [\n",
    "                imaugs.VFlip(p=0.6)\n",
    "            ])\n",
    "display(aug1(img, meta))\n",
    "meta"
   ]
  },
  {
   "cell_type": "code",
   "execution_count": null,
   "metadata": {},
   "outputs": [],
   "source": [
    "meta = []\n",
    "aug1 = imaugs.Compose(\n",
    "            [\n",
    "                imaugs.Brightness(factor=random.uniform(0, 3))\n",
    "            ])\n",
    "display(aug1(img, meta))\n",
    "meta"
   ]
  }
 ],
 "metadata": {
  "kernelspec": {
   "display_name": "AI",
   "language": "python",
   "name": "python3"
  },
  "language_info": {
   "codemirror_mode": {
    "name": "ipython",
    "version": 3
   },
   "file_extension": ".py",
   "mimetype": "text/x-python",
   "name": "python",
   "nbconvert_exporter": "python",
   "pygments_lexer": "ipython3",
   "version": "3.9.16"
  },
  "orig_nbformat": 4,
  "vscode": {
   "interpreter": {
    "hash": "f9c6e14294a7890fd82d22a6b88c8170b3a8d9c6af15c879a4f20608217f0836"
   }
  }
 },
 "nbformat": 4,
 "nbformat_minor": 2
}
