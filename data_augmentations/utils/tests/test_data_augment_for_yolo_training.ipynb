{
 "cells": [
  {
   "cell_type": "code",
   "execution_count": 1,
   "metadata": {},
   "outputs": [],
   "source": [
    "from PIL import Image\n",
    "import sys\n",
    "sys.path.append('..')\n",
    "from data_augmentation_for_yolo_training import *\n",
    "# overlay = Image.open(\"/data/sswang/data/isc_data/training_images/D1035960.jpg\")\n",
    "# bg_img = Image.open(\"/data/sswang/data/isc_data/subset/reference_subset/R000000.jpg\")\n",
    "\n",
    "# # 笔记本电脑\n",
    "# bg_img = Image.open(\"C:/Users/Lenovo/Desktop/AI/image_matching/data/training_data_background/T100017.jpg\")\n",
    "# overlay = Image.open(\"C:/Users/Lenovo/Desktop/AI/image_matching/data/training_data_background/T100041.jpg\")\n",
    "\n",
    "# 155服务器\n",
    "overlay = Image.open(\"/datassd2/sswang/image_matching/data/isc_data/training_imgs/faces/F1000000.jpg\")\n",
    "bg_img = Image.open(\"/datassd2/sswang/image_matching/data/isc_data/training_imgs/training/T000017.jpg\")"
   ]
  },
  {
   "cell_type": "code",
   "execution_count": null,
   "metadata": {},
   "outputs": [],
   "source": [
    "meta = []\n",
    "bg_aug_instance = generate_bg_aug(512, 512)\n"
   ]
  },
  {
   "cell_type": "code",
   "execution_count": null,
   "metadata": {},
   "outputs": [],
   "source": [
    "display(bg_aug_instance(bg_img, meta))\n",
    "meta"
   ]
  },
  {
   "cell_type": "code",
   "execution_count": null,
   "metadata": {},
   "outputs": [],
   "source": [
    "meta = []\n",
    "overlay_aug_instance = generate_overlay_aug()"
   ]
  },
  {
   "cell_type": "code",
   "execution_count": null,
   "metadata": {},
   "outputs": [],
   "source": [
    "display(overlay_aug_instance(overlay, meta))\n",
    "meta"
   ]
  },
  {
   "cell_type": "code",
   "execution_count": null,
   "metadata": {},
   "outputs": [],
   "source": [
    "overlaied_img, yolo_label = overlay_image(bg_img=bg_img, overlay=overlay)\n",
    "display(overlaied_img)\n",
    "print(yolo_label)"
   ]
  },
  {
   "cell_type": "code",
   "execution_count": null,
   "metadata": {},
   "outputs": [],
   "source": [
    "meta = []\n",
    "final_aug_instance = final_aug()"
   ]
  },
  {
   "cell_type": "code",
   "execution_count": null,
   "metadata": {},
   "outputs": [],
   "source": [
    "display(final_aug_instance(img, meta))\n",
    "meta"
   ]
  },
  {
   "cell_type": "code",
   "execution_count": 3,
   "metadata": {},
   "outputs": [
    {
     "ename": "TypeError",
     "evalue": "'int' object is not callable",
     "output_type": "error",
     "traceback": [
      "\u001b[0;31m---------------------------------------------------------------------------\u001b[0m",
      "\u001b[0;31mTypeError\u001b[0m                                 Traceback (most recent call last)",
      "Cell \u001b[0;32mIn[3], line 4\u001b[0m\n\u001b[1;32m      2\u001b[0m bg_aug_instance \u001b[39m=\u001b[39m generate_bg_aug(aug_level\u001b[39m=\u001b[39maug_level, width\u001b[39m=\u001b[39m\u001b[39m512\u001b[39m, height\u001b[39m=\u001b[39m\u001b[39m512\u001b[39m)\n\u001b[1;32m      3\u001b[0m overlay_aug_instance \u001b[39m=\u001b[39m generate_overlay_aug(aug_level\u001b[39m=\u001b[39maug_level)\n\u001b[0;32m----> 4\u001b[0m final_aug_instance \u001b[39m=\u001b[39m final_aug(aug_level\u001b[39m=\u001b[39;49maug_level)\n\u001b[1;32m      6\u001b[0m auged_bg_img \u001b[39m=\u001b[39m bg_aug_instance(bg_img)\n\u001b[1;32m      7\u001b[0m auged_overlay_img \u001b[39m=\u001b[39m overlay_aug_instance(overlay)\n",
      "\u001b[0;31mTypeError\u001b[0m: 'int' object is not callable"
     ]
    }
   ],
   "source": [
    "aug_level = 4\n",
    "bg_aug_instance = generate_bg_aug(aug_level=aug_level, width=512, height=512)\n",
    "overlay_aug_instance = generate_overlay_aug(aug_level=aug_level)\n",
    "final_aug_instance = final_aug(aug_level=aug_level)\n",
    "\n",
    "auged_bg_img = bg_aug_instance(bg_img)\n",
    "auged_overlay_img = overlay_aug_instance(overlay)\n",
    "\n",
    "overlaied_img, yolo_label = overlay_image(bg_img=auged_bg_img, overlay=auged_overlay_img)\n",
    "display(overlaied_img)\n",
    "print(yolo_label)\n",
    "\n",
    "\n",
    "final_img = final_aug_instance(overlaied_img)\n",
    "display(final_img)\n",
    "\n",
    "\n",
    "\n",
    "yolo_rectangle = draw_yolo_rectangle(yolo_label=yolo_label, img = final_img)\n",
    "display(yolo_rectangle)"
   ]
  },
  {
   "cell_type": "code",
   "execution_count": 11,
   "metadata": {},
   "outputs": [
    {
     "name": "stdout",
     "output_type": "stream",
     "text": [
      "第0轮开始\n",
      "第0轮结束\n",
      "第1轮开始\n",
      "第1轮结束\n",
      "第2轮开始\n",
      "第2轮结束\n",
      "第3轮开始\n",
      "第3轮结束\n",
      "第4轮开始\n",
      "第4轮结束\n",
      "第5轮开始\n",
      "第5轮结束\n"
     ]
    }
   ],
   "source": [
    "for i in range(6):\n",
    "    # 每增强十轮之后重新构造数据增强对象\n",
    "    print(\"第{}轮开始\".format(i))\n",
    "    bg_aug = generate_bg_aug(aug_level =i)\n",
    "    overlay_aug = generate_overlay_aug(aug_level = i)\n",
    "    final_aug = final_aug_(aug_level = i)\n",
    "    print(\"第{}轮结束\".format(i))"
   ]
  }
 ],
 "metadata": {
  "kernelspec": {
   "display_name": "AI",
   "language": "python",
   "name": "python3"
  },
  "language_info": {
   "codemirror_mode": {
    "name": "ipython",
    "version": 3
   },
   "file_extension": ".py",
   "mimetype": "text/x-python",
   "name": "python",
   "nbconvert_exporter": "python",
   "pygments_lexer": "ipython3",
   "version": "3.9.16"
  },
  "orig_nbformat": 4
 },
 "nbformat": 4,
 "nbformat_minor": 2
}
