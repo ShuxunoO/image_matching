{
 "cells": [
  {
   "cell_type": "code",
   "execution_count": null,
   "metadata": {},
   "outputs": [],
   "source": [
    "import os\n",
    "from PIL import Image\n",
    "from random import sample, choices\n",
    "\n",
    "COL = 5 #指定拼接图片的列数\n",
    "ROW = 2 #指定拼接图片的行数\n",
    "UNIT_HEIGHT_SIZE = 900 #图片高度\n",
    "UNIT_WIDTH_SIZE = 600 #图片宽度\n",
    "PATH = \"\" #需要拼接的图片所在的路径\n",
    "NAME = \"\" #拼接出的图片保存的名字\n",
    "RANDOM_SELECT = False #设置是否可重复抽取图片\n",
    "SAVE_QUALITY = 50 #保存的图片的质量 可选0-100\n",
    "\n",
    "#进行图片的复制拼接\n",
    "def concat_images(image_names, name, path):\n",
    "    image_files = []\n",
    "    for index in range(COL*ROW):\n",
    "        image_files.append(Image.open(path + image_names[index])) #读取所有用于拼接的图片\n",
    "    target = Image.new('RGB', (UNIT_WIDTH_SIZE * COL, UNIT_HEIGHT_SIZE * ROW)) #创建成品图的画布\n",
    "    #第一个参数RGB表示创建RGB彩色图，第二个参数传入元组指定图片大小，第三个参数可指定颜色，默认为黑色\n",
    "    for row in range(ROW):\n",
    "        for col in range(COL):\n",
    "            #对图片进行逐行拼接\n",
    "            #paste方法第一个参数指定需要拼接的图片，第二个参数为二元元组（指定复制位置的左上角坐标）\n",
    "            #或四元元组（指定复制位置的左上角和右下角坐标）\n",
    "            target.paste(image_files[COL*row+col], (0 + UNIT_WIDTH_SIZE*col, 0 + UNIT_HEIGHT_SIZE*row))\n",
    "    target.save(path + name + '.jpg', quality=SAVE_QUALITY) #成品图保存\n",
    "\n",
    "#获取需要拼接图片的名称\n",
    "def get_image_names(path):\n",
    "    image_names = list(os.walk(path))[0][2] #获取目标文件夹下的所有文件的文件名\n",
    "    #先用list将iterator转成list，再[0]取出里面的三元元组元素，再[2]取出元组中的由文件夹名组成的列表\n",
    "    #从所有文件中随机抽取需要数量的文件，可设置是否能重复抽取\n",
    "    #random库中的choices函数用于可放回抽取，第一个参数指定用于抽取的对象，k参数指定抽取数量\n",
    "    #sample函数用于不放回抽取，参数同上\n",
    "    selected_images = choices(image_names, k=COL*ROW) if RANDOM_SELECT else sample(image_names, COL*ROW)\n",
    "    return selected_images\n",
    "\n",
    "\n"
   ]
  }
 ],
 "metadata": {
  "language_info": {
   "name": "python"
  },
  "orig_nbformat": 4
 },
 "nbformat": 4,
 "nbformat_minor": 2
}
