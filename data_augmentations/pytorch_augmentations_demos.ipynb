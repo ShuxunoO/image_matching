{
 "cells": [
  {
   "cell_type": "code",
   "execution_count": 2,
   "metadata": {},
   "outputs": [],
   "source": [
    "import torch\n",
    "import os\n",
    "import torchvision.transforms as transforms\n",
    "torch.manual_seed(17)\n",
    "from PIL import ImageFilter, Image"
   ]
  },
  {
   "cell_type": "code",
   "execution_count": 3,
   "metadata": {},
   "outputs": [],
   "source": [
    "input_base_path = \"/data/sswang/data/isc_data/training_images\"\n",
    "output_base_path = \"./output\"\n",
    "source_image = \"D1035960.jpg\"  # caixukun：D1035960.jpg\n",
    "# 尺寸500*500 位深度24\n",
    "\n",
    "image_path = os.path.join(input_base_path, source_image)\n",
    "image = Image.open(image_path) "
   ]
  },
  {
   "cell_type": "code",
   "execution_count": 5,
   "metadata": {},
   "outputs": [
    {
     "ename": "AttributeError",
     "evalue": "module 'torchvision.transforms' has no attribute 'elastic_transform'",
     "output_type": "error",
     "traceback": [
      "\u001b[0;31m---------------------------------------------------------------------------\u001b[0m",
      "\u001b[0;31mAttributeError\u001b[0m                            Traceback (most recent call last)",
      "Cell \u001b[0;32mIn [5], line 1\u001b[0m\n\u001b[0;32m----> 1\u001b[0m elastic_transformer \u001b[39m=\u001b[39m transforms\u001b[39m.\u001b[39;49melastic_transform(alpha\u001b[39m=\u001b[39m\u001b[39m250.0\u001b[39m)\n\u001b[1;32m      2\u001b[0m transformed_imgs \u001b[39m=\u001b[39m [elastic_transformer(image) \u001b[39mfor\u001b[39;00m _ \u001b[39min\u001b[39;00m \u001b[39mrange\u001b[39m(\u001b[39m2\u001b[39m)]\n\u001b[1;32m      3\u001b[0m display(transformed_imgs)\n",
      "\u001b[0;31mAttributeError\u001b[0m: module 'torchvision.transforms' has no attribute 'elastic_transform'"
     ]
    }
   ],
   "source": [
    "elastic_transformer = transforms.elastic_transform(alpha=250.0)\n",
    "transformed_imgs = [elastic_transformer(image) for _ in range(2)]\n",
    "display(transformed_imgs)"
   ]
  },
  {
   "cell_type": "code",
   "execution_count": null,
   "metadata": {},
   "outputs": [],
   "source": []
  }
 ],
 "metadata": {
  "kernelspec": {
   "display_name": "limu",
   "language": "python",
   "name": "python3"
  },
  "language_info": {
   "codemirror_mode": {
    "name": "ipython",
    "version": 3
   },
   "file_extension": ".py",
   "mimetype": "text/x-python",
   "name": "python",
   "nbconvert_exporter": "python",
   "pygments_lexer": "ipython3",
   "version": "3.9.13"
  },
  "orig_nbformat": 4,
  "vscode": {
   "interpreter": {
    "hash": "a3008d68924f45956556acf295dcfe598cfb2c7cf92317909fcc27f6df7c5f1d"
   }
  }
 },
 "nbformat": 4,
 "nbformat_minor": 2
}
