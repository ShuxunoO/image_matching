{
 "cells": [
  {
   "cell_type": "code",
   "execution_count": 11,
   "metadata": {},
   "outputs": [],
   "source": [
    "from multiprocessing import  Process, Pool"
   ]
  },
  {
   "cell_type": "code",
   "execution_count": 9,
   "metadata": {},
   "outputs": [
    {
     "name": "stdout",
     "output_type": "stream",
     "text": [
      "测试Python多进程测试Python多进程\n",
      "测试Python多进程\n",
      "\n",
      "测试Python多进程\n",
      "测试Python多进程\n",
      "结束测试\n"
     ]
    }
   ],
   "source": [
    "def fun1(name):\n",
    "    print('测试%s多进程' %name)\n",
    "\n",
    "if __name__ == '__main__':\n",
    "    process_list = []\n",
    "    for i in range(5):  #开启5个子进程执行fun1函数\n",
    "        p = Process(target=fun1,args=('Python',)) #实例化进程对象\n",
    "        p.start()\n",
    "        process_list.append(p)\n",
    "\n",
    "    for i in process_list:\n",
    "        p.join()\n",
    "\n",
    "    print('结束测试')"
   ]
  },
  {
   "cell_type": "code",
   "execution_count": 10,
   "metadata": {},
   "outputs": [
    {
     "name": "stdout",
     "output_type": "stream",
     "text": [
      "测试Python多进程\n",
      "测试Python多进程\n",
      "测试Python多进程测试Python多进程\n",
      "测试Python多进程\n",
      "\n",
      "结束测试\n"
     ]
    }
   ],
   "source": [
    "class MyProcess(Process): #继承Process类\n",
    "    def __init__(self,name):\n",
    "        super(MyProcess,self).__init__()\n",
    "        self.name = name\n",
    "\n",
    "    def run(self):\n",
    "        print('测试%s多进程' % self.name)\n",
    "\n",
    "\n",
    "if __name__ == '__main__':\n",
    "    process_list = []\n",
    "    for i in range(5):  #开启5个子进程执行fun1函数\n",
    "        p = MyProcess('Python') #实例化进程对象\n",
    "        p.start()\n",
    "        process_list.append(p)\n",
    "\n",
    "    for i in process_list:\n",
    "        p.join()\n",
    "\n",
    "    print('结束测试')"
   ]
  },
  {
   "cell_type": "code",
   "execution_count": 12,
   "metadata": {},
   "outputs": [
    {
     "name": "stdout",
     "output_type": "stream",
     "text": [
      "num : 1\n",
      "num : 0num : 3\n",
      "num : 2\n",
      "num : 4\n",
      "num : 5\n",
      "\n",
      "======  apply_async  ======\n"
     ]
    }
   ],
   "source": [
    "\n",
    "def show(num):\n",
    "    print('num : ' + str(num))\n",
    "\n",
    "if __name__==\"__main__\":\n",
    "    pool = Pool(processes = 3)\n",
    "    for i in range(6):\n",
    "        # 维持执行的进程总数为processes，当一个进程执行完毕后会添加新的进程进去\n",
    "        pool.apply_async(show, args=(i, ))\n",
    "    print('======  apply_async  ======')\n",
    "    pool.close()\n",
    "    #调用join之前，先调用close函数，否则会出错。执行完close后不会有新的进程加入到pool,join函数等待所有子进程结束\n",
    "    pool.join()"
   ]
  },
  {
   "cell_type": "code",
   "execution_count": null,
   "metadata": {},
   "outputs": [],
   "source": [
    "import multiprocessing as mp\n",
    "\n",
    "def job(q):\n",
    "    res = 0\n",
    "    for i in range(1000):\n",
    "        res += i+i**2+i**3\n",
    "    q.put(res) # queue\n",
    "\n",
    "if __name__ == '__main__':\n",
    "    q = mp.Queue()\n",
    "    p1 = mp.Process(target=job, args=(q,))\n",
    "    p2 = mp.Process(target=job, args=(q,))\n",
    "    p1.start()\n",
    "    p2.start()\n",
    "    p1.join()\n",
    "    p2.join()\n",
    "    res1 = q.get()\n",
    "    res2 = q.get()\n",
    "    print(res1+res2)"
   ]
  },
  {
   "cell_type": "code",
   "execution_count": null,
   "metadata": {},
   "outputs": [],
   "source": [
    "import multiprocessing as mtp\n",
    "import time\n",
    "\n",
    "def work_todo(x):\n",
    "    print(\"进程X开始工作\")\n",
    "    return x * x\n",
    "\n",
    "# 进程池的使用\n",
    "\n",
    "# 1. 定义一个线程池\n",
    "\n",
    "\n",
    "# 2. 将任务放入线程池（异步，参数也要输入进去，进程池会自动分配计算资源）\n",
    "\n",
    "# 3. 关闭线程池 取回结果\n"
   ]
  }
 ],
 "metadata": {
  "kernelspec": {
   "display_name": "img_matching",
   "language": "python",
   "name": "python3"
  },
  "language_info": {
   "codemirror_mode": {
    "name": "ipython",
    "version": 3
   },
   "file_extension": ".py",
   "mimetype": "text/x-python",
   "name": "python",
   "nbconvert_exporter": "python",
   "pygments_lexer": "ipython3",
   "version": "3.9.16"
  },
  "orig_nbformat": 4
 },
 "nbformat": 4,
 "nbformat_minor": 2
}
