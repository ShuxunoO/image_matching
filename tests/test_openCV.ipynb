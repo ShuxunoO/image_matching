{
 "cells": [
  {
   "cell_type": "code",
   "execution_count": 2,
   "metadata": {},
   "outputs": [],
   "source": [
    "# 导入库\n",
    "import numpy as np\n",
    "import cv2\n",
    "img_path = '/datassd2/sswang/image_matching/data/isc_data/training_imgs/training/T000000.jpg'\n",
    "# mask"
   ]
  },
  {
   "cell_type": "code",
   "execution_count": 3,
   "metadata": {},
   "outputs": [
    {
     "ename": "",
     "evalue": "",
     "output_type": "error",
     "traceback": [
      "\u001b[1;31mCanceled future for execute_request message before replies were done"
     ]
    },
    {
     "ename": "",
     "evalue": "",
     "output_type": "error",
     "traceback": [
      "\u001b[1;31m在当前单元格或上一个单元格中执行代码时 Kernel 崩溃。请查看单元格中的代码，以确定故障的可能原因。有关详细信息，请单击 <a href='https://aka.ms/vscodeJupyterKernelCrash'>此处</a>。有关更多详细信息，请查看 Jupyter <a href='command:jupyter.viewOutput'>log</a>。"
     ]
    }
   ],
   "source": [
    "\n",
    "# 加载猫的图像\n",
    "image = cv2.imread(img_path)\n",
    "cv2.imshow(\"Cat\", image)\n",
    "\n",
    "# # 创建矩形区域，填充白色255\n",
    "# rectangle = np.zeros(image.shape[:2], dtype = \"uint8\")\n",
    "# cv2.rectangle(rectangle, (380, 100), (575, 200), 255, -1)\n",
    "# cv2.imshow(\"Rectangle\", rectangle)\n",
    "\n",
    "# # 创建圆形区域，填充白色255\n",
    "# circle = np.zeros(image.shape[:2], dtype = \"uint8\")\n",
    "# cv2.circle(circle, (475, 180), 105, 255, -1)\n",
    "# cv2.imshow(\"Circle\", circle)\n",
    "\n",
    "# # 或运算\n",
    "# bitwiseOr = cv2.bitwise_or(rectangle, circle)\n",
    "# cv2.imshow(\"OR\", bitwiseOr)\n",
    "# cv2.waitKey(0)\n",
    "\n",
    "# mask = bitwiseOr\n",
    "# cv2.imshow(\"Mask\", mask)\n",
    "\n",
    "# # Apply out mask -- notice how only the person in the image is cropped out\n",
    "# masked = cv2.bitwise_and(image, image, mask=mask)\n",
    "# cv2.imshow(\"Mask Applied to Image\", masked)\n",
    "# cv2.waitKey(0)"
   ]
  }
 ],
 "metadata": {
  "kernelspec": {
   "display_name": "img_matching",
   "language": "python",
   "name": "python3"
  },
  "language_info": {
   "codemirror_mode": {
    "name": "ipython",
    "version": 3
   },
   "file_extension": ".py",
   "mimetype": "text/x-python",
   "name": "python",
   "nbconvert_exporter": "python",
   "pygments_lexer": "ipython3",
   "version": "3.9.16"
  },
  "orig_nbformat": 4
 },
 "nbformat": 4,
 "nbformat_minor": 2
}
